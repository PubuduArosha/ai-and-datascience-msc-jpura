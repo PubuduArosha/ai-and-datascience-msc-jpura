{
 "cells": [
  {
   "cell_type": "code",
   "execution_count": 8,
   "id": "4341e6dc",
   "metadata": {},
   "outputs": [
    {
     "name": "stdout",
     "output_type": "stream",
     "text": [
      "omp\n",
      "puter\n",
      "compu\n",
      "r\n",
      "ter\n",
      "comput\n",
      "opt\n"
     ]
    }
   ],
   "source": [
    "x = 'computer'\n",
    "print(x[1:4]) #omp\n",
    "print(x[3:]) #puter\n",
    "print(x[:5]) #compu\n",
    "print(x[-1]) #r\n",
    "print(x[-3:]) #ter\n",
    "print(x[:-2]) #comput\n",
    "print(x[1:6:2])#opt"
   ]
  },
  {
   "cell_type": "code",
   "execution_count": 9,
   "id": "01c5e73e",
   "metadata": {},
   "outputs": [
    {
     "name": "stdout",
     "output_type": "stream",
     "text": [
      "M\n"
     ]
    }
   ],
   "source": [
    "nic='983060055V'\n",
    "print(\"F\") if int(nic[2:5])>500 else print(\"M\")"
   ]
  },
  {
   "cell_type": "code",
   "execution_count": 11,
   "id": "4191f68f",
   "metadata": {},
   "outputs": [
    {
     "name": "stdout",
     "output_type": "stream",
     "text": [
      "University,of,Sri\n"
     ]
    }
   ],
   "source": [
    "print(','.join(['University', 'of','Sri']))"
   ]
  },
  {
   "cell_type": "code",
   "execution_count": 21,
   "id": "a828b703",
   "metadata": {},
   "outputs": [
    {
     "data": {
      "text/plain": [
       "['bhnn', 'dsdn', 'hsjdkjs']"
      ]
     },
     "execution_count": 21,
     "metadata": {},
     "output_type": "execute_result"
    }
   ],
   "source": [
    "#split\n",
    "s = \"bhnn dsdn hsjdkjs\"\n",
    "s.split()"
   ]
  },
  {
   "cell_type": "code",
   "execution_count": 20,
   "id": "d90f8b53",
   "metadata": {},
   "outputs": [
    {
     "data": {
      "text/plain": [
       "['ssss sss scsdwdsd sdadds', 'sdsdssdqeqe', 'dsasdsdsdfae efssfsd']"
      ]
     },
     "execution_count": 20,
     "metadata": {},
     "output_type": "execute_result"
    }
   ],
   "source": [
    "h = \"\"\"ssss sss scsdwdsd sdadds\n",
    "sdsdssdqeqe\n",
    "dsasdsdsdfae efssfsd\"\"\"\n",
    "\n",
    "h.splitlines()"
   ]
  },
  {
   "cell_type": "code",
   "execution_count": null,
   "id": "6f1bdeb9",
   "metadata": {},
   "outputs": [],
   "source": []
  },
  {
   "cell_type": "code",
   "execution_count": 39,
   "id": "1d327c05",
   "metadata": {},
   "outputs": [
    {
     "data": {
      "text/plain": [
       "True"
      ]
     },
     "execution_count": 39,
     "metadata": {},
     "output_type": "execute_result"
    }
   ],
   "source": [
    "#Checking String membership\n",
    "\n",
    "s = \"University of Sri Jayewardenepura\"\n",
    "\n",
    "'u' in s\n",
    "'X' not in s\n",
    "'u' in s"
   ]
  },
  {
   "cell_type": "code",
   "execution_count": 33,
   "id": "a36ccd81",
   "metadata": {},
   "outputs": [
    {
     "data": {
      "text/plain": [
       "4"
      ]
     },
     "execution_count": 33,
     "metadata": {},
     "output_type": "execute_result"
    }
   ],
   "source": [
    "s = \"University of Sri Jayewardenepura\"\n",
    "s.find('e')"
   ]
  },
  {
   "cell_type": "code",
   "execution_count": 41,
   "id": "490a5c2d",
   "metadata": {},
   "outputs": [
    {
     "data": {
      "text/plain": [
       "'University of S Jayewardenepura'"
      ]
     },
     "execution_count": 41,
     "metadata": {},
     "output_type": "execute_result"
    }
   ],
   "source": [
    "#Replacing all SubStrings\n",
    "\n",
    "s=\"University of Sri Jayewardenepura\"\n",
    "s=s.replace('Sri','S')\n",
    "\n",
    "s"
   ]
  },
  {
   "cell_type": "code",
   "execution_count": 46,
   "id": "7a4cc246",
   "metadata": {},
   "outputs": [
    {
     "data": {
      "text/plain": [
       "'ABCDEFGHIJKLMNOPQRSTUVWXYZ'"
      ]
     },
     "execution_count": 46,
     "metadata": {},
     "output_type": "execute_result"
    }
   ],
   "source": [
    "import string\n",
    "\n",
    "string.digits\n",
    "\n",
    "string.punctuation\n",
    "\n",
    "string.ascii_lowercase\n",
    "\n",
    "string.ascii_uppercase\n"
   ]
  },
  {
   "cell_type": "code",
   "execution_count": 47,
   "id": "6d54ec43",
   "metadata": {},
   "outputs": [
    {
     "data": {
      "text/plain": [
       "'!\"#$%&\\'()*+,-./:;<=>?@[\\\\]^_`{|}~'"
      ]
     },
     "execution_count": 47,
     "metadata": {},
     "output_type": "execute_result"
    }
   ],
   "source": [
    "string.punctuation"
   ]
  },
  {
   "cell_type": "code",
   "execution_count": 48,
   "id": "8c675c13",
   "metadata": {},
   "outputs": [
    {
     "data": {
      "text/plain": [
       "'First  Letter: A. Last Letter: Z'"
      ]
     },
     "execution_count": 48,
     "metadata": {},
     "output_type": "execute_result"
    }
   ],
   "source": [
    "\"\"\"First  Letter: {0}. Last Letter: {1}\"\"\".format('A','Z')"
   ]
  },
  {
   "cell_type": "code",
   "execution_count": 50,
   "id": "fb2ac05d",
   "metadata": {},
   "outputs": [
    {
     "data": {
      "text/plain": [
       "'First  Letter: A. Last Letter: Z'"
      ]
     },
     "execution_count": 50,
     "metadata": {},
     "output_type": "execute_result"
    }
   ],
   "source": [
    "\"\"\"First  Letter: {first}. Last Letter: {last}\"\"\".format(first='A',last='Z')"
   ]
  },
  {
   "cell_type": "code",
   "execution_count": 54,
   "id": "1c80a62b",
   "metadata": {},
   "outputs": [
    {
     "data": {
      "text/plain": [
       "3.141592653589793"
      ]
     },
     "execution_count": 54,
     "metadata": {},
     "output_type": "execute_result"
    }
   ],
   "source": [
    "import math\n",
    "\n",
    "pi = math.pi\n",
    "pi\n"
   ]
  },
  {
   "cell_type": "code",
   "execution_count": 56,
   "id": "e645fdfc",
   "metadata": {},
   "outputs": [
    {
     "data": {
      "text/plain": [
       "'y'"
      ]
     },
     "execution_count": 56,
     "metadata": {},
     "output_type": "execute_result"
    }
   ],
   "source": [
    "# Min & Max\n",
    "s=\"University\"\n",
    "min(s)\n",
    "max(s)"
   ]
  },
  {
   "cell_type": "code",
   "execution_count": null,
   "id": "8b130cb8",
   "metadata": {},
   "outputs": [],
   "source": []
  },
  {
   "cell_type": "code",
   "execution_count": null,
   "id": "53eeac2a",
   "metadata": {},
   "outputs": [],
   "source": []
  }
 ],
 "metadata": {
  "kernelspec": {
   "display_name": "Python 3 (ipykernel)",
   "language": "python",
   "name": "python3"
  },
  "language_info": {
   "codemirror_mode": {
    "name": "ipython",
    "version": 3
   },
   "file_extension": ".py",
   "mimetype": "text/x-python",
   "name": "python",
   "nbconvert_exporter": "python",
   "pygments_lexer": "ipython3",
   "version": "3.11.3"
  }
 },
 "nbformat": 4,
 "nbformat_minor": 5
}
