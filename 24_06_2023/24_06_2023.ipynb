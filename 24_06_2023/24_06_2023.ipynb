{
 "cells": [
  {
   "cell_type": "code",
   "execution_count": 2,
   "id": "4322ab2a",
   "metadata": {},
   "outputs": [
    {
     "name": "stdout",
     "output_type": "stream",
     "text": [
      "2.0\n",
      "2\n",
      "4\n",
      "8\n"
     ]
    }
   ],
   "source": [
    "from math import *\n",
    "\n",
    "print( sqrt(4) )\n",
    "print( abs(-2) )\n",
    "print( min(4, 6) )\n",
    "print( max(6, 8) )"
   ]
  },
  {
   "cell_type": "code",
   "execution_count": 3,
   "id": "b039042d",
   "metadata": {},
   "outputs": [
    {
     "name": "stdout",
     "output_type": "stream",
     "text": [
      "Hello\n"
     ]
    }
   ],
   "source": [
    "def my_fuction():\n",
    "    print( \"Hello\")\n",
    "    \n",
    "my_fuction()"
   ]
  },
  {
   "cell_type": "code",
   "execution_count": 4,
   "id": "a9d11494",
   "metadata": {},
   "outputs": [
    {
     "name": "stdout",
     "output_type": "stream",
     "text": [
      "Hello Kamal\n",
      "Hello Nimal\n"
     ]
    }
   ],
   "source": [
    "def my_fuction(fname):\n",
    "    print( \"Hello \" + fname)\n",
    "    \n",
    "my_fuction(\"Kamal\")\n",
    "my_fuction(\"Nimal\")"
   ]
  },
  {
   "cell_type": "code",
   "execution_count": 6,
   "id": "ab28426c",
   "metadata": {},
   "outputs": [
    {
     "name": "stdout",
     "output_type": "stream",
     "text": [
      "20\n",
      "25\n"
     ]
    }
   ],
   "source": [
    "def my_fuction(x):\n",
    "    return 5*x\n",
    "\n",
    "print(my_fuction(4))\n",
    "print(my_fuction(5))"
   ]
  },
  {
   "cell_type": "code",
   "execution_count": 8,
   "id": "c1817bc7",
   "metadata": {},
   "outputs": [
    {
     "name": "stdout",
     "output_type": "stream",
     "text": [
      "40 5\n"
     ]
    }
   ],
   "source": [
    "def swap(x,y):\n",
    "    return y,x\n",
    "\n",
    "a = 10\n",
    "b = 20\n",
    "\n",
    "a, b = 5,40\n",
    "\n",
    "a, b = swap(a, b)\n",
    "\n",
    "print(a,b)"
   ]
  },
  {
   "cell_type": "code",
   "execution_count": 9,
   "id": "a6cf88f5",
   "metadata": {},
   "outputs": [
    {
     "name": "stdout",
     "output_type": "stream",
     "text": [
      "Max is  20\n",
      "Max is  60\n",
      "Max is  80\n"
     ]
    }
   ],
   "source": [
    "def max(x=45, y=60):\n",
    "    if x > y:\n",
    "        z=x\n",
    "    else:\n",
    "        z=y\n",
    "    \n",
    "    return z\n",
    "\n",
    "\n",
    "a = 10\n",
    "b = 20\n",
    "\n",
    "print(\"Max is \", max(a,b))\n",
    "print(\"Max is \", max(x=50))\n",
    "print(\"Max is \", max(y=80))"
   ]
  },
  {
   "cell_type": "code",
   "execution_count": 10,
   "id": "3fc86a84",
   "metadata": {},
   "outputs": [
    {
     "name": "stdout",
     "output_type": "stream",
     "text": [
      "1\n",
      "2\n",
      "3\n",
      "4\n",
      "5\n",
      "6\n",
      "7\n",
      "8\n",
      "9\n"
     ]
    }
   ],
   "source": [
    "for i in range(1,10):\n",
    "    print(i)"
   ]
  },
  {
   "cell_type": "code",
   "execution_count": 13,
   "id": "7f0ac68b",
   "metadata": {},
   "outputs": [
    {
     "name": "stdout",
     "output_type": "stream",
     "text": [
      "100 98 96 94 92 90 88 86 84 82 80 78 76 74 72 70 68 66 64 62 60 58 56 54 52 "
     ]
    }
   ],
   "source": [
    "for x in range(100, 50, -2):\n",
    "    print(x, end=\" \")"
   ]
  },
  {
   "cell_type": "code",
   "execution_count": 45,
   "id": "2e41d52c",
   "metadata": {},
   "outputs": [
    {
     "name": "stdout",
     "output_type": "stream",
     "text": [
      "8 x 1  =  8\n",
      "8 x 2  =  16\n",
      "8 x 3  =  24\n",
      "8 x 4  =  32\n",
      "8 x 5  =  40\n",
      "8 x 6  =  48\n",
      "8 x 7  =  56\n",
      "8 x 8  =  64\n",
      "8 x 9  =  72\n",
      "8 x 10  =  80\n",
      "8 x 11  =  88\n",
      "8 x 12  =  96\n"
     ]
    }
   ],
   "source": [
    "i=0\n",
    "\n",
    "for x in range(8, 100, 8):\n",
    "    i=i+1\n",
    "    print(\"8 x\", i,\" = \", x )\n",
    "    "
   ]
  },
  {
   "cell_type": "code",
   "execution_count": 46,
   "id": "a31b0aee",
   "metadata": {},
   "outputs": [
    {
     "name": "stdout",
     "output_type": "stream",
     "text": [
      "0\n",
      "1\n",
      "5\n",
      "No no more items.\n"
     ]
    }
   ],
   "source": [
    "digits = [0, 1, 5]\n",
    "\n",
    "for i in digits:\n",
    "    print(i)\n",
    "else:\n",
    "    print(\"No no more items.\")"
   ]
  },
  {
   "cell_type": "code",
   "execution_count": 47,
   "id": "d433cdf8",
   "metadata": {},
   "outputs": [
    {
     "name": "stdout",
     "output_type": "stream",
     "text": [
      "*\n",
      "*\n",
      "*\n",
      "*\n",
      "*\n",
      "*\n",
      "*\n",
      "*\n",
      "*\n",
      "*\n"
     ]
    }
   ],
   "source": [
    "for i in range(1,11):\n",
    "    print(\"*\")"
   ]
  },
  {
   "cell_type": "code",
   "execution_count": 48,
   "id": "817244d6",
   "metadata": {},
   "outputs": [
    {
     "name": "stdout",
     "output_type": "stream",
     "text": [
      " *  *  *  *  * \n",
      " *  *  *  *  * \n",
      " *  *  *  *  * \n",
      " *  *  *  *  * \n",
      " *  *  *  *  * \n"
     ]
    }
   ],
   "source": [
    "for i in range(1,6):\n",
    "    for j in range(1,6):\n",
    "        print(\" * \", end=\"\")\n",
    "    print()"
   ]
  },
  {
   "cell_type": "markdown",
   "id": "fe30df61",
   "metadata": {},
   "source": [
    "https://www.tutorialstonight.com/python/pattern-program-in-python "
   ]
  },
  {
   "cell_type": "code",
   "execution_count": 61,
   "id": "cdf75f1f",
   "metadata": {},
   "outputs": [
    {
     "name": "stdout",
     "output_type": "stream",
     "text": [
      "Enter n 5\n",
      "Factorial is  120\n"
     ]
    }
   ],
   "source": [
    "n = int(input(\"Enter n \"))\n",
    "fact =1\n",
    "\n",
    "for x in range(1, n+1):\n",
    "    fact *= x\n",
    "else:\n",
    "    print(\"Factorial is \", fact)"
   ]
  },
  {
   "cell_type": "code",
   "execution_count": 62,
   "id": "a64a3c11",
   "metadata": {},
   "outputs": [
    {
     "name": "stdout",
     "output_type": "stream",
     "text": [
      "[0, 1, 2, 3, 4, 5, 6, 7, 8, 9]\n"
     ]
    }
   ],
   "source": [
    "b = [ i for i in range(10)]\n",
    "print(b)"
   ]
  },
  {
   "cell_type": "code",
   "execution_count": 63,
   "id": "d8471263",
   "metadata": {},
   "outputs": [
    {
     "name": "stdout",
     "output_type": "stream",
     "text": [
      "[0, 1, 4, 9, 16, 25, 36, 49, 64, 81]\n"
     ]
    }
   ],
   "source": [
    "b = [ i**2 for i in range(10)]\n",
    "print(b)"
   ]
  },
  {
   "cell_type": "code",
   "execution_count": 64,
   "id": "73efe4ef",
   "metadata": {},
   "outputs": [
    {
     "name": "stdout",
     "output_type": "stream",
     "text": [
      "[25, 36, 49, 64, 81]\n"
     ]
    }
   ],
   "source": [
    "b = [ i**2 for i in range(10) if i>4]\n",
    "print(b)"
   ]
  },
  {
   "cell_type": "code",
   "execution_count": 65,
   "id": "68bb7e74",
   "metadata": {},
   "outputs": [
    {
     "name": "stdout",
     "output_type": "stream",
     "text": [
      "[0, 4, 16, 36, 64]\n"
     ]
    }
   ],
   "source": [
    "b = [ i**2 for i in range(10) if i%2 == 0] \n",
    "print(b)"
   ]
  },
  {
   "cell_type": "code",
   "execution_count": 67,
   "id": "97f9262c",
   "metadata": {},
   "outputs": [
    {
     "name": "stdout",
     "output_type": "stream",
     "text": [
      "['Even', 'Odd', 'Even', 'Odd', 'Even', 'Odd', 'Even', 'Odd', 'Even', 'Odd']\n"
     ]
    }
   ],
   "source": [
    "obj = [\"Even\" if i%2 == 0 else \"Odd\" for i in range(10)]\n",
    "print(obj)"
   ]
  },
  {
   "cell_type": "code",
   "execution_count": 68,
   "id": "085280ea",
   "metadata": {},
   "outputs": [
    {
     "ename": "SyntaxError",
     "evalue": "invalid syntax (3205238703.py, line 1)",
     "output_type": "error",
     "traceback": [
      "\u001b[0;36m  Cell \u001b[0;32mIn[68], line 1\u001b[0;36m\u001b[0m\n\u001b[0;31m    obj = [if i%2 == 0 \"Even\" else \"Odd\" for i in range(10)]\u001b[0m\n\u001b[0m           ^\u001b[0m\n\u001b[0;31mSyntaxError\u001b[0m\u001b[0;31m:\u001b[0m invalid syntax\n"
     ]
    }
   ],
   "source": [
    "#check\n",
    "obj = [if i%2 == 0 \"Even\" else \"Odd\" for i in range(10)]\n",
    "print(obj)"
   ]
  },
  {
   "cell_type": "code",
   "execution_count": 74,
   "id": "c0fb4cfd",
   "metadata": {},
   "outputs": [
    {
     "name": "stdout",
     "output_type": "stream",
     "text": [
      "[0, 36]\n"
     ]
    }
   ],
   "source": [
    "b = [i**2 for i in range(10) if i%2 ==0 if i%3 == 0]\n",
    "print(b)"
   ]
  },
  {
   "cell_type": "code",
   "execution_count": 75,
   "id": "fe7e2dc8",
   "metadata": {},
   "outputs": [
    {
     "name": "stdout",
     "output_type": "stream",
     "text": [
      "[('Amal', 25), ('Kamal', 34), ('Nimal', 45)]\n"
     ]
    }
   ],
   "source": [
    "names = ['Amal', 'Kamal', 'Nimal']\n",
    "ages = [25,34,45]\n",
    "person_tuples = [ (name, age) for name, age in zip(names, ages)]\n",
    "print(person_tuples)"
   ]
  },
  {
   "cell_type": "code",
   "execution_count": 77,
   "id": "a424c891",
   "metadata": {},
   "outputs": [
    {
     "name": "stdout",
     "output_type": "stream",
     "text": [
      "[(1, 4), (1, 5), (1, 6), (2, 4), (2, 5), (2, 6), (3, 4), (3, 5), (3, 6)]\n"
     ]
    }
   ],
   "source": [
    "nums1= [1,2,3]\n",
    "nums2= [4,5,6]\n",
    "nums = [(x,y) for x in nums1 for y in nums2]\n",
    "print(nums)"
   ]
  },
  {
   "cell_type": "code",
   "execution_count": 80,
   "id": "71bbc88e",
   "metadata": {},
   "outputs": [
    {
     "name": "stdout",
     "output_type": "stream",
     "text": [
      "[1, 2, 3, 4, 5, 6, 7, 8, 9]\n"
     ]
    }
   ],
   "source": [
    "matrix=[[1,2,3],[4,5,6],[7,8,9]]\n",
    "flatList = [ num for row in matrix for num in row ]\n",
    "print(flatList)"
   ]
  },
  {
   "cell_type": "code",
   "execution_count": 84,
   "id": "7bc3e975",
   "metadata": {},
   "outputs": [
    {
     "name": "stdout",
     "output_type": "stream",
     "text": [
      "[[0, 1, 2], [0, 1, 2], [0, 1, 2]]\n"
     ]
    }
   ],
   "source": [
    "matrix = [[j for j in range(3)] for i in range(3)]\n",
    "print(matrix)"
   ]
  },
  {
   "cell_type": "code",
   "execution_count": 85,
   "id": "f873a503",
   "metadata": {},
   "outputs": [
    {
     "name": "stdout",
     "output_type": "stream",
     "text": [
      "[[1, 3, 5, 7], [2, 4, 6, 8]]\n"
     ]
    }
   ],
   "source": [
    "matrix = [[1,2], [3,4], [5,6], [7,8]]\n",
    "transpose = [[row[i] for row in matrix] for i in range(len(matrix[0]))]\n",
    "print(transpose)"
   ]
  },
  {
   "cell_type": "markdown",
   "id": "b1643413",
   "metadata": {},
   "source": [
    "# A lambda function is a small anonymous function. A lambda function can take any number of arguments, but can only have one expression"
   ]
  },
  {
   "cell_type": "code",
   "execution_count": 86,
   "id": "ffe03133",
   "metadata": {},
   "outputs": [
    {
     "name": "stdout",
     "output_type": "stream",
     "text": [
      "15\n"
     ]
    }
   ],
   "source": [
    "x = lambda a : a + 10\n",
    "print(x(5))"
   ]
  },
  {
   "cell_type": "code",
   "execution_count": 87,
   "id": "1985e1c6",
   "metadata": {},
   "outputs": [
    {
     "name": "stdout",
     "output_type": "stream",
     "text": [
      "30\n"
     ]
    }
   ],
   "source": [
    "x = lambda a,b : a * b\n",
    "print(x(5,6))"
   ]
  },
  {
   "cell_type": "code",
   "execution_count": 88,
   "id": "2c48ec2f",
   "metadata": {},
   "outputs": [
    {
     "name": "stdout",
     "output_type": "stream",
     "text": [
      "30\n"
     ]
    }
   ],
   "source": [
    "tp=lambda up,qty: up*qty\n",
    "\n",
    "tot = tp(5, 6)\n",
    "print(tot)"
   ]
  },
  {
   "cell_type": "code",
   "execution_count": 91,
   "id": "d29c6b55",
   "metadata": {},
   "outputs": [
    {
     "name": "stdout",
     "output_type": "stream",
     "text": [
      "Enter a year: 2023\n",
      "2023 is not a leap year.\n"
     ]
    }
   ],
   "source": [
    "is_leap_year = lambda year: year % 4 == 0 and (year % 100 != 0 or year % 400 == 0)\n",
    "\n",
    "year = int(input(\"Enter a year: \"))\n",
    "\n",
    "if is_leap_year(year):\n",
    "    print(year, \"is a leap year.\")\n",
    "else:\n",
    "    print(year, \"is not a leap year.\")\n"
   ]
  },
  {
   "cell_type": "code",
   "execution_count": 94,
   "id": "7e2fca6d",
   "metadata": {},
   "outputs": [
    {
     "name": "stdout",
     "output_type": "stream",
     "text": [
      "135.0\n",
      "142.5\n",
      "150.0\n"
     ]
    }
   ],
   "source": [
    "def totPay(dis):\n",
    "    return lambda up, qty : up * qty * ((100-dis)/100)\n",
    "\n",
    "totPayWith10Dis = totPay(10)\n",
    "totPayWith5Dis = totPay(5)\n",
    "totPayWithZeroDis = totPay(0)\n",
    "\n",
    "print(totPayWith10Dis(10,15))\n",
    "print(totPayWith5Dis(10,15))\n",
    "print(totPayWithZeroDis(10,15))"
   ]
  },
  {
   "cell_type": "code",
   "execution_count": 95,
   "id": "15772043",
   "metadata": {},
   "outputs": [
    {
     "name": "stdout",
     "output_type": "stream",
     "text": [
      "[1, 4, 9, 16, 25]\n"
     ]
    }
   ],
   "source": [
    "#map \n",
    "l = [1,2,3,4,5]\n",
    "print(list(map(lambda x : x**2, l)))"
   ]
  },
  {
   "cell_type": "code",
   "execution_count": 96,
   "id": "be813c8e",
   "metadata": {},
   "outputs": [
    {
     "name": "stdout",
     "output_type": "stream",
     "text": [
      "[4, 5]\n"
     ]
    }
   ],
   "source": [
    "#filter\n",
    "l = [1,2,3,4,5]\n",
    "print(list(filter(lambda x : x>3, l)))"
   ]
  },
  {
   "cell_type": "code",
   "execution_count": 97,
   "id": "5ca04468",
   "metadata": {},
   "outputs": [
    {
     "name": "stdout",
     "output_type": "stream",
     "text": [
      "120\n"
     ]
    }
   ],
   "source": [
    "import functools\n",
    "\n",
    "l = [1, 2, 3, 4, 5]\n",
    "print ( functools.reduce( lambda x , y : x * y , l ) )"
   ]
  },
  {
   "cell_type": "code",
   "execution_count": 107,
   "id": "da771073",
   "metadata": {},
   "outputs": [
    {
     "data": {
      "text/plain": [
       "<re.Match object; span=(0, 17), match='The rain in Spain'>"
      ]
     },
     "execution_count": 107,
     "metadata": {},
     "output_type": "execute_result"
    }
   ],
   "source": [
    "#Start -> \"The\" End -> \"Spain\"\n",
    "#https://www.w3schools.com/python/python_regex.asp \n",
    "    \n",
    "import re\n",
    "\n",
    "txt = \"The rain in Spain\"\n",
    "x = re.search(\"^The.*Spain$\", txt)\n",
    "x"
   ]
  },
  {
   "cell_type": "code",
   "execution_count": 108,
   "id": "7b808c0a",
   "metadata": {},
   "outputs": [
    {
     "name": "stdout",
     "output_type": "stream",
     "text": [
      "['rain', 'pain']\n"
     ]
    }
   ],
   "source": [
    "x = re.findall(\".ai.\", txt)\n",
    "print(x)"
   ]
  },
  {
   "cell_type": "code",
   "execution_count": 112,
   "id": "86cc4836",
   "metadata": {},
   "outputs": [
    {
     "name": "stdout",
     "output_type": "stream",
     "text": [
      "<re.Match object; span=(80, 87), match='9.00 am'>\n"
     ]
    }
   ],
   "source": [
    "txt = \"16/10/2022\tDSA 501 3.0\tMathematics for Data Science and Artificial Intelligence\t9.00 am - 12.00 Noon\tSMART Classroom 16/10/2022\tDSA 502 2.0\tProgramming for Data Science and Artificial Intelligence\t2.00 pm-5.00pm\tSMART Classroom\"\n",
    "\n",
    "pattern = r'\\d{1,2}\\.\\d{2}\\s*[ap]m' \n",
    "    \n",
    "x = re.search(pattern, txt)\n",
    "print(x)"
   ]
  },
  {
   "cell_type": "code",
   "execution_count": 116,
   "id": "63712b09",
   "metadata": {},
   "outputs": [
    {
     "name": "stdout",
     "output_type": "stream",
     "text": [
      "Starting time: 9.00 am\n"
     ]
    }
   ],
   "source": [
    "\"\"\"Note: r'\\d{1,2}\\.\\d{2}\\s*[ap]m' to match the starting time format \n",
    "(e.g., \"9.00 am\" or \"2.00 pm\"). This pattern matches one or two digits followed \n",
    "by a period, two digits, optional whitespace, and \"am\" or \"pm\".\"\"\" \n",
    "\n",
    "def extract_starting_time(text):\n",
    "    pattern = r'\\d{1,2}\\.\\d{2}\\s*[ap]m'\n",
    "    match = re.search(pattern, text)\n",
    "    if match:\n",
    "        return match.group()\n",
    "    else:\n",
    "        return None\n",
    "\n",
    "# Test the function\n",
    "\n",
    "text = \"16/10/2022 DSA 501 3.0 Mathematics for Data Science and Artificial Intelligence 9.00 am - 12.00 Noon SMART Classroom 16/10/2022 DSA 502 2.0 Programming for Data Science and Artificial Intelligence 2.00 pm-5.00pm SMART Classroom\"\n",
    "\n",
    "starting_time = extract_starting_time(text)\n",
    "if starting_time:\n",
    "    print(\"Starting time:\", starting_time)\n",
    "else:\n",
    "    print(\"Starting time not found.\")"
   ]
  },
  {
   "cell_type": "code",
   "execution_count": null,
   "id": "c2fda395",
   "metadata": {},
   "outputs": [],
   "source": []
  }
 ],
 "metadata": {
  "kernelspec": {
   "display_name": "Python 3 (ipykernel)",
   "language": "python",
   "name": "python3"
  },
  "language_info": {
   "codemirror_mode": {
    "name": "ipython",
    "version": 3
   },
   "file_extension": ".py",
   "mimetype": "text/x-python",
   "name": "python",
   "nbconvert_exporter": "python",
   "pygments_lexer": "ipython3",
   "version": "3.10.9"
  }
 },
 "nbformat": 4,
 "nbformat_minor": 5
}
