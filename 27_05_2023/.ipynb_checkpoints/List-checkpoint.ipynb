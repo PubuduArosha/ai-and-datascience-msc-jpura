{
 "cells": [
  {
   "cell_type": "code",
   "execution_count": 1,
   "id": "25e70610",
   "metadata": {},
   "outputs": [
    {
     "name": "stdout",
     "output_type": "stream",
     "text": [
      "[] ['a', 25, 'dog', 8.43] [10, 20]\n"
     ]
    }
   ],
   "source": [
    "#create lit\n",
    "x = list()\n",
    "y = ['a', 25, 'dog', 8.43]\n",
    "tuplel = (10,20)\n",
    "z = list(tuplel)\n",
    "\n",
    "print(x,y,z)\n"
   ]
  },
  {
   "cell_type": "code",
   "execution_count": 2,
   "id": "8421da20",
   "metadata": {},
   "outputs": [
    {
     "name": "stdout",
     "output_type": "stream",
     "text": [
      "[5, 3, 8, 6, 7]\n"
     ]
    }
   ],
   "source": [
    "#append\n",
    "\n",
    "x = [5,3,8,6]\n",
    "x.append(7)\n",
    "print(x)"
   ]
  },
  {
   "cell_type": "code",
   "execution_count": 13,
   "id": "5d5deba9",
   "metadata": {},
   "outputs": [
    {
     "name": "stdout",
     "output_type": "stream",
     "text": [
      "[5, 3, 8, 6, 4, 14]\n"
     ]
    }
   ],
   "source": [
    "#concatenation\n",
    "\n",
    "x = [5,3,8,6]\n",
    "y = [4,14]\n",
    "\n",
    "z = x + y\n",
    "print(z)"
   ]
  },
  {
   "cell_type": "code",
   "execution_count": 12,
   "id": "82e509f4",
   "metadata": {},
   "outputs": [
    {
     "name": "stdout",
     "output_type": "stream",
     "text": [
      "[5, 3, 8, 6, 2, 14]\n"
     ]
    }
   ],
   "source": [
    "#extend\n",
    "\n",
    "a = [5,3,8,6]\n",
    "b = [2,14]\n",
    "\n",
    "a.extend(b)\n",
    "print(a)"
   ]
  },
  {
   "cell_type": "code",
   "execution_count": 17,
   "id": "e14fb368",
   "metadata": {},
   "outputs": [
    {
     "name": "stdout",
     "output_type": "stream",
     "text": [
      "[5, 7, 3, 8, 6]\n",
      "[5, ['a', 'b'], 7, 3, 8, 6]\n",
      "['a', 'b']\n"
     ]
    }
   ],
   "source": [
    "#insert \n",
    "\n",
    "x = [5,3,8,6]\n",
    "\n",
    "x.insert(1,7)\n",
    "print(x)\n",
    "\n",
    "x.insert(1, ['a', 'b'])\n",
    "print(x)\n",
    "\n",
    "print(x[1])"
   ]
  },
  {
   "cell_type": "code",
   "execution_count": 19,
   "id": "cd21ecca",
   "metadata": {},
   "outputs": [
    {
     "name": "stdout",
     "output_type": "stream",
     "text": [
      "[5, 3, 4]\n",
      "4\n"
     ]
    },
    {
     "data": {
      "text/plain": [
       "3"
      ]
     },
     "execution_count": 19,
     "metadata": {},
     "output_type": "execute_result"
    }
   ],
   "source": [
    "x = [5,3,4,2]\n",
    "\n",
    "x.pop()\n",
    "print(x)\n",
    "\n",
    "print(x.pop())\n",
    "\n",
    "x.pop()"
   ]
  },
  {
   "cell_type": "code",
   "execution_count": 21,
   "id": "0ac23876",
   "metadata": {},
   "outputs": [
    {
     "name": "stdout",
     "output_type": "stream",
     "text": [
      "False\n"
     ]
    }
   ],
   "source": [
    "#checking membership \n",
    "y = ['pig', 'cow', 'house']\n",
    "print('cow' not in y)"
   ]
  },
  {
   "cell_type": "code",
   "execution_count": 22,
   "id": "03647f36",
   "metadata": {},
   "outputs": [
    {
     "name": "stdout",
     "output_type": "stream",
     "text": [
      "1\n"
     ]
    }
   ],
   "source": [
    "#index of an item\n",
    "y = ['pig', 'cow', 'house', 'cow']\n",
    "print(y.index('cow'))"
   ]
  },
  {
   "cell_type": "code",
   "execution_count": 23,
   "id": "f57f9a36",
   "metadata": {},
   "outputs": [
    {
     "name": "stdout",
     "output_type": "stream",
     "text": [
      "10\n",
      "7\n"
     ]
    }
   ],
   "source": [
    "#sum\n",
    "\n",
    "y = [1,2,3,4]\n",
    "print(sum(y))\n",
    "print(sum(y[-2:]))"
   ]
  },
  {
   "cell_type": "code",
   "execution_count": 24,
   "id": "e6972089",
   "metadata": {},
   "outputs": [
    {
     "name": "stdout",
     "output_type": "stream",
     "text": [
      "jayawardenapura\n",
      "university\n"
     ]
    }
   ],
   "source": [
    "#min & max\n",
    "l = ['university', 'of', 'sri', 'jayawardenapura']\n",
    "print(min(l))\n",
    "\n",
    "print(max(l))\n",
    "\n",
    "#check again\n"
   ]
  },
  {
   "cell_type": "code",
   "execution_count": 25,
   "id": "bc659692",
   "metadata": {},
   "outputs": [
    {
     "name": "stdout",
     "output_type": "stream",
     "text": [
      "['jayawardenapura', 'of', 'sri', 'university']\n"
     ]
    }
   ],
   "source": [
    "#sort\n",
    "\n",
    "print(sorted(l))"
   ]
  },
  {
   "cell_type": "code",
   "execution_count": 26,
   "id": "2170702e",
   "metadata": {},
   "outputs": [
    {
     "name": "stdout",
     "output_type": "stream",
     "text": [
      "7\n",
      "8\n",
      "3\n",
      "5\n"
     ]
    }
   ],
   "source": [
    "#iterating listss\n",
    "\n",
    "x = [7,8,3,5]\n",
    "\n",
    "for item in x:\n",
    "    print(item)"
   ]
  },
  {
   "cell_type": "code",
   "execution_count": 27,
   "id": "0f292157",
   "metadata": {},
   "outputs": [
    {
     "name": "stdout",
     "output_type": "stream",
     "text": [
      "ccc\n",
      "fff\n",
      "ddd\n"
     ]
    }
   ],
   "source": [
    "a = [\"ddd\", \"fff\", \"ccc\"]\n",
    "for i in reversed(a):\n",
    "    print(i)"
   ]
  },
  {
   "cell_type": "code",
   "execution_count": 28,
   "id": "d28ba007",
   "metadata": {},
   "outputs": [
    {
     "name": "stdout",
     "output_type": "stream",
     "text": [
      "45\n",
      "23\n",
      "2\n"
     ]
    }
   ],
   "source": [
    "a = [2, 23, 45]\n",
    "for i in reversed(a):\n",
    "    print(i)"
   ]
  },
  {
   "cell_type": "code",
   "execution_count": 40,
   "id": "8d7b93d4",
   "metadata": {},
   "outputs": [
    {
     "name": "stdout",
     "output_type": "stream",
     "text": [
      "qqq\n"
     ]
    }
   ],
   "source": [
    "x = \"abc2ba\"\n",
    "\n",
    "# for i in x:\n",
    "#     if x[0] == x[-1]:\n",
    "#         print(\"okay\")\n",
    "#    else:\n",
    "#         print(\"No\")\n",
    "        \n",
    "\n",
    "for item in x:\n",
    "    k = item\n",
    "#     print(k)\n",
    "    \n",
    "for i in reversed(x):\n",
    "    h = i\n",
    "#     print(h)\n",
    "    \n",
    "if k == h:\n",
    "    print(\"qqq\")\n",
    "else:\n",
    "    print(\"Www\")\n",
    "    \n",
    "#check again"
   ]
  },
  {
   "cell_type": "code",
   "execution_count": 75,
   "id": "65ffc1b6",
   "metadata": {},
   "outputs": [
    {
     "ename": "NameError",
     "evalue": "name 'input_text' is not defined",
     "output_type": "error",
     "traceback": [
      "\u001b[0;31m---------------------------------------------------------------------------\u001b[0m",
      "\u001b[0;31mNameError\u001b[0m                                 Traceback (most recent call last)",
      "Cell \u001b[0;32mIn[75], line 7\u001b[0m\n\u001b[1;32m      3\u001b[0m     \u001b[38;5;28;01mreturn\u001b[39;00m text \u001b[38;5;241m==\u001b[39m text[::\u001b[38;5;241m-\u001b[39m\u001b[38;5;241m1\u001b[39m] \u001b[38;5;66;03m#compare the word with its reverse\u001b[39;00m\n\u001b[1;32m      5\u001b[0m \u001b[38;5;66;03m# input_text = input(\"Enter a text: \")\u001b[39;00m\n\u001b[0;32m----> 7\u001b[0m \u001b[38;5;28;01mif\u001b[39;00m check_palindrome(\u001b[43minput_text\u001b[49m):\n\u001b[1;32m      8\u001b[0m     \u001b[38;5;28mprint\u001b[39m(\u001b[38;5;124m\"\u001b[39m\u001b[38;5;124mThe text is a palindrome.\u001b[39m\u001b[38;5;124m\"\u001b[39m)\n\u001b[1;32m      9\u001b[0m \u001b[38;5;28;01melse\u001b[39;00m:\n",
      "\u001b[0;31mNameError\u001b[0m: name 'input_text' is not defined"
     ]
    }
   ],
   "source": [
    "def check_palindrome(text):\n",
    "    text = text.replace(\" \", \"\").lower() #remove spaces and convert to lowercase\n",
    "    return text == text[::-1] #compare the word with its reverse\n",
    "\n",
    "input_text = input(\"Enter a text: \")\n",
    "\n",
    "if check_palindrome(input_text):\n",
    "    print(\"The text is a palindrome.\")\n",
    "else:\n",
    "    print(\"The text is not a palindrome.\")\n"
   ]
  },
  {
   "cell_type": "code",
   "execution_count": 46,
   "id": "3669b774",
   "metadata": {},
   "outputs": [
    {
     "name": "stdout",
     "output_type": "stream",
     "text": [
      "Enter a word: abc2ba\n",
      "It's not a palindrome.\n"
     ]
    }
   ],
   "source": [
    "def is_palindrome(string):\n",
    "    string = string.lower()  # Convert string to lowercase for case-insensitive comparison\n",
    "    string = ''.join(char for char in string if char.isalnum())  # Remove non-alphanumeric characters\n",
    "    return string == string[::-1]  # Compare the string with its reverse\n",
    "\n",
    "word = input(\"Enter a word: \")\n",
    "if is_palindrome(word):\n",
    "    print(\"It's a palindrome!\")\n",
    "else:\n",
    "    print(\"It's not a palindrome.\")\n",
    "    \n",
    "    "
   ]
  },
  {
   "cell_type": "code",
   "execution_count": null,
   "id": "4eeb4086",
   "metadata": {},
   "outputs": [],
   "source": []
  },
  {
   "cell_type": "code",
   "execution_count": 41,
   "id": "d9f42315",
   "metadata": {},
   "outputs": [
    {
     "name": "stdout",
     "output_type": "stream",
     "text": [
      "0 7\n",
      "1 8\n",
      "2 9\n"
     ]
    }
   ],
   "source": [
    "#index & item\n",
    "y = [7,8,9]\n",
    "for index, item in enumerate(y):\n",
    "    print(index,item)"
   ]
  },
  {
   "cell_type": "code",
   "execution_count": 35,
   "id": "4c377cd6",
   "metadata": {},
   "outputs": [
    {
     "name": "stdout",
     "output_type": "stream",
     "text": [
      "[0, 1, 2, 3, 4, 5, 6, 7]\n",
      "[25, 36, 49, 64, 81]\n"
     ]
    }
   ],
   "source": [
    "#list comprehension\n",
    "\n",
    "a = [m for m in range(8)]\n",
    "print(a)\n",
    "b = [i**2 for i in range(10) if i >4]\n",
    "print(b)"
   ]
  },
  {
   "cell_type": "code",
   "execution_count": 42,
   "id": "5dd26f8a",
   "metadata": {},
   "outputs": [
    {
     "name": "stdout",
     "output_type": "stream",
     "text": [
      "pig\n",
      "cow\n",
      "house\n",
      "cow\n"
     ]
    }
   ],
   "source": [
    "#unpacking\n",
    "\n",
    "y = ['pig', 'cow', 'house', 'cow']\n",
    "a, b ,c ,d = y\n",
    "print(a,b,c,d, sep=\"\\n\")"
   ]
  },
  {
   "cell_type": "code",
   "execution_count": 44,
   "id": "3bee1bac",
   "metadata": {},
   "outputs": [
    {
     "name": "stdout",
     "output_type": "stream",
     "text": [
      "() <class 'tuple'>\n",
      "(1, 2, 3) <class 'tuple'>\n",
      "(1, 2, 3) <class 'tuple'>\n",
      "(2,) <class 'tuple'>\n",
      "(2, 3, 5) <class 'tuple'>\n"
     ]
    }
   ],
   "source": [
    "#tuple\n",
    "\n",
    "x = ()\n",
    "print(x,type(x))\n",
    "\n",
    "x = (1,2,3)\n",
    "print(x,type(x))\n",
    "\n",
    "x = 1,2,3\n",
    "print(x,type(x))\n",
    "\n",
    "x =2,\n",
    "print(x,type(x))\n",
    "\n",
    "list1 = [2,3,5]\n",
    "x=tuple(list1)\n",
    "print(x,type(x))"
   ]
  },
  {
   "cell_type": "code",
   "execution_count": 50,
   "id": "f4ea614c",
   "metadata": {},
   "outputs": [
    {
     "name": "stdout",
     "output_type": "stream",
     "text": [
      "{3, 5, 7}\n",
      "set()\n",
      "{2, 3, 4, 5}\n"
     ]
    }
   ],
   "source": [
    "#creating new set\n",
    "\n",
    "x = {3,5,7,5}\n",
    "print(x)\n",
    "\n",
    "y = set()\n",
    "print(y)\n",
    "\n",
    "list1 = [2,3,3,4,5]\n",
    "z = set(list1)\n",
    "print(z)"
   ]
  },
  {
   "cell_type": "code",
   "execution_count": 51,
   "id": "f47a92c4",
   "metadata": {},
   "outputs": [
    {
     "name": "stdout",
     "output_type": "stream",
     "text": [
      "{3}\n",
      "{1, 2, 3, 4, 5}\n",
      "{1, 2, 4, 5}\n",
      "{1, 2}\n"
     ]
    }
   ],
   "source": [
    "s1 = {1,2,3}\n",
    "s2 = {3,4,5}\n",
    "\n",
    "print(s1 & s2)\n",
    "print(s1 | s2)\n",
    "print(s1 ^ s2)\n",
    "print(s1 - s2)"
   ]
  },
  {
   "cell_type": "code",
   "execution_count": 54,
   "id": "300cf9de",
   "metadata": {},
   "outputs": [
    {
     "name": "stdout",
     "output_type": "stream",
     "text": [
      "{'pork': 25.3, 'beef': 33.8, 'chicken': 22.7}\n",
      "{'pork': 25.3, 'beef': 33.8, 'chhicken': 22.7}\n",
      "{'pork': 25.3, 'beef': 33.8, 'chicken': 22.7}\n"
     ]
    }
   ],
   "source": [
    "x = {'pork':25.3, 'beef':33.8, 'chicken':22.7}\n",
    "print(x)\n",
    "\n",
    "x = dict([('pork', 25.3), ('beef', 33.8), ('chhicken',22.7)])\n",
    "print(x)\n",
    "\n",
    "x = dict(pork=25.3, beef=33.8, chicken=22.7)\n",
    "print(x)"
   ]
  },
  {
   "cell_type": "code",
   "execution_count": 55,
   "id": "8ab59515",
   "metadata": {},
   "outputs": [
    {
     "name": "stdout",
     "output_type": "stream",
     "text": [
      "{'pork': 25.3, 'beef': 33.8, 'chicken': 22.7, 'shrimp': 38.2}\n",
      "{'pork': 25.3, 'beef': 33.8, 'chicken': 22.7}\n",
      "3\n"
     ]
    }
   ],
   "source": [
    "x['shrimp'] = 38.2 #add or update\n",
    "print(x)\n",
    "\n",
    "del(x['shrimp']) #delete on item\n",
    "print(x)\n",
    "\n",
    "print(len(x)) #get lengh of dict x"
   ]
  },
  {
   "cell_type": "code",
   "execution_count": 68,
   "id": "024808bf",
   "metadata": {},
   "outputs": [
    {
     "name": "stdout",
     "output_type": "stream",
     "text": [
      "dict_keys(['pork', 'beef', 'chicken'])\n",
      "dict_values([25.3, 33.8, 22.7])\n",
      "dict_items([('pork', 25.3), ('beef', 33.8), ('chicken', 22.7)])\n"
     ]
    }
   ],
   "source": [
    "y = {'pork':25.3, 'beef':33.8, 'chicken':22.7}\n",
    "print(y.keys())\n",
    "print(y.values())\n",
    "print(y.items()) #key value pairs\n",
    "\n",
    "#check membership un y_keys .....................\n"
   ]
  },
  {
   "cell_type": "code",
   "execution_count": 69,
   "id": "f29ad04d",
   "metadata": {},
   "outputs": [
    {
     "data": {
      "text/plain": [
       "[['pork', 25.3], ['beef', 33.8], ['chicken', 22.7]]"
      ]
     },
     "execution_count": 69,
     "metadata": {},
     "output_type": "execute_result"
    }
   ],
   "source": [
    "l1 = []\n",
    "for key, value in y.items():\n",
    "    temp = [key,value]\n",
    "    l1.append(temp)\n",
    "\n",
    "l1"
   ]
  },
  {
   "cell_type": "code",
   "execution_count": 73,
   "id": "53c72e13",
   "metadata": {},
   "outputs": [
    {
     "ename": "SyntaxError",
     "evalue": "unmatched ']' (334578153.py, line 2)",
     "output_type": "error",
     "traceback": [
      "\u001b[0;36m  Cell \u001b[0;32mIn[73], line 2\u001b[0;36m\u001b[0m\n\u001b[0;31m    [l.extend([k,v])] for k,v in y.items()]\u001b[0m\n\u001b[0m                                          ^\u001b[0m\n\u001b[0;31mSyntaxError\u001b[0m\u001b[0;31m:\u001b[0m unmatched ']'\n"
     ]
    }
   ],
   "source": [
    "l = []\n",
    "[l.extend([k,v])] for k,v in y.items()]\n",
    "l"
   ]
  },
  {
   "cell_type": "code",
   "execution_count": null,
   "id": "b6b359f3",
   "metadata": {},
   "outputs": [],
   "source": []
  },
  {
   "cell_type": "code",
   "execution_count": null,
   "id": "51cf1e5e",
   "metadata": {},
   "outputs": [],
   "source": []
  },
  {
   "cell_type": "code",
   "execution_count": null,
   "id": "0dc2172e",
   "metadata": {},
   "outputs": [],
   "source": []
  },
  {
   "cell_type": "code",
   "execution_count": null,
   "id": "f775294e",
   "metadata": {},
   "outputs": [],
   "source": []
  },
  {
   "cell_type": "code",
   "execution_count": null,
   "id": "ca6c1fbb",
   "metadata": {},
   "outputs": [],
   "source": []
  },
  {
   "cell_type": "code",
   "execution_count": null,
   "id": "83fe2b58",
   "metadata": {},
   "outputs": [],
   "source": []
  },
  {
   "cell_type": "code",
   "execution_count": null,
   "id": "1103e329",
   "metadata": {},
   "outputs": [],
   "source": []
  },
  {
   "cell_type": "code",
   "execution_count": null,
   "id": "be481558",
   "metadata": {},
   "outputs": [],
   "source": []
  },
  {
   "cell_type": "code",
   "execution_count": null,
   "id": "1df3dc5e",
   "metadata": {},
   "outputs": [],
   "source": []
  }
 ],
 "metadata": {
  "kernelspec": {
   "display_name": "Python 3 (ipykernel)",
   "language": "python",
   "name": "python3"
  },
  "language_info": {
   "codemirror_mode": {
    "name": "ipython",
    "version": 3
   },
   "file_extension": ".py",
   "mimetype": "text/x-python",
   "name": "python",
   "nbconvert_exporter": "python",
   "pygments_lexer": "ipython3",
   "version": "3.10.9"
  }
 },
 "nbformat": 4,
 "nbformat_minor": 5
}
