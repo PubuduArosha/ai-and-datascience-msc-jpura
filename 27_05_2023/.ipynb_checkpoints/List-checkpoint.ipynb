{
 "cells": [
  {
   "cell_type": "code",
   "execution_count": 1,
   "id": "7a62a168",
   "metadata": {},
   "outputs": [
    {
     "name": "stdout",
     "output_type": "stream",
     "text": [
      "[] ['a', 25, 'dog', 8.43] [10, 20]\n"
     ]
    }
   ],
   "source": [
    "#create lit\n",
    "x = list()\n",
    "y = ['a', 25, 'dog', 8.43]\n",
    "tuplel = (10,20)\n",
    "z = list(tuplel)\n",
    "\n",
    "print(x,y,z)\n"
   ]
  },
  {
   "cell_type": "code",
   "execution_count": 2,
   "id": "649d94a5",
   "metadata": {},
   "outputs": [
    {
     "name": "stdout",
     "output_type": "stream",
     "text": [
      "[5, 3, 8, 6, 7]\n"
     ]
    }
   ],
   "source": [
    "#append\n",
    "\n",
    "x = [5,3,8,6]\n",
    "x.append(7)\n",
    "print(x)"
   ]
  },
  {
   "cell_type": "code",
   "execution_count": 13,
   "id": "50b94cb0",
   "metadata": {},
   "outputs": [
    {
     "name": "stdout",
     "output_type": "stream",
     "text": [
      "[5, 3, 8, 6, 4, 14]\n"
     ]
    }
   ],
   "source": [
    "#concatenation\n",
    "\n",
    "x = [5,3,8,6]\n",
    "y = [4,14]\n",
    "\n",
    "z = x + y\n",
    "print(z)"
   ]
  },
  {
   "cell_type": "code",
   "execution_count": 12,
   "id": "fe08cd6f",
   "metadata": {},
   "outputs": [
    {
     "name": "stdout",
     "output_type": "stream",
     "text": [
      "[5, 3, 8, 6, 2, 14]\n"
     ]
    }
   ],
   "source": [
    "#extend\n",
    "\n",
    "a = [5,3,8,6]\n",
    "b = [2,14]\n",
    "\n",
    "a.extend(b)\n",
    "print(a)"
   ]
  },
  {
   "cell_type": "code",
   "execution_count": 17,
   "id": "e71c73e1",
   "metadata": {},
   "outputs": [
    {
     "name": "stdout",
     "output_type": "stream",
     "text": [
      "[5, 7, 3, 8, 6]\n",
      "[5, ['a', 'b'], 7, 3, 8, 6]\n",
      "['a', 'b']\n"
     ]
    }
   ],
   "source": [
    "#insert \n",
    "\n",
    "x = [5,3,8,6]\n",
    "\n",
    "x.insert(1,7)\n",
    "print(x)\n",
    "\n",
    "x.insert(1, ['a', 'b'])\n",
    "print(x)\n",
    "\n",
    "print(x[1])"
   ]
  },
  {
   "cell_type": "code",
   "execution_count": 19,
   "id": "64c152b5",
   "metadata": {},
   "outputs": [
    {
     "name": "stdout",
     "output_type": "stream",
     "text": [
      "[5, 3, 4]\n",
      "4\n"
     ]
    },
    {
     "data": {
      "text/plain": [
       "3"
      ]
     },
     "execution_count": 19,
     "metadata": {},
     "output_type": "execute_result"
    }
   ],
   "source": [
    "x = [5,3,4,2]\n",
    "\n",
    "x.pop()\n",
    "print(x)\n",
    "\n",
    "print(x.pop())\n",
    "\n",
    "x.pop()"
   ]
  },
  {
   "cell_type": "code",
   "execution_count": 21,
   "id": "b73f9c34",
   "metadata": {},
   "outputs": [
    {
     "name": "stdout",
     "output_type": "stream",
     "text": [
      "False\n"
     ]
    }
   ],
   "source": [
    "#checking membership \n",
    "y = ['pig', 'cow', 'house']\n",
    "print('cow' not in y)"
   ]
  },
  {
   "cell_type": "code",
   "execution_count": 22,
   "id": "dfe3f6c0",
   "metadata": {},
   "outputs": [
    {
     "name": "stdout",
     "output_type": "stream",
     "text": [
      "1\n"
     ]
    }
   ],
   "source": [
    "#index of an item\n",
    "y = ['pig', 'cow', 'house', 'cow']\n",
    "print(y.index('cow'))"
   ]
  },
  {
   "cell_type": "code",
   "execution_count": 23,
   "id": "029a41aa",
   "metadata": {},
   "outputs": [
    {
     "name": "stdout",
     "output_type": "stream",
     "text": [
      "10\n",
      "7\n"
     ]
    }
   ],
   "source": [
    "#sum\n",
    "\n",
    "y = [1,2,3,4]\n",
    "print(sum(y))\n",
    "print(sum(y[-2:]))"
   ]
  },
  {
   "cell_type": "code",
   "execution_count": 24,
   "id": "041c66dd",
   "metadata": {},
   "outputs": [
    {
     "name": "stdout",
     "output_type": "stream",
     "text": [
      "jayawardenapura\n",
      "university\n"
     ]
    }
   ],
   "source": [
    "#min & max\n",
    "l = ['university', 'of', 'sri', 'jayawardenapura']\n",
    "print(min(l))\n",
    "\n",
    "print(max(l))\n",
    "\n",
    "#check again\n"
   ]
  },
  {
   "cell_type": "code",
   "execution_count": 25,
   "id": "54c39d28",
   "metadata": {},
   "outputs": [
    {
     "name": "stdout",
     "output_type": "stream",
     "text": [
      "['jayawardenapura', 'of', 'sri', 'university']\n"
     ]
    }
   ],
   "source": [
    "#sort\n",
    "\n",
    "print(sorted(l))"
   ]
  },
  {
   "cell_type": "code",
   "execution_count": 26,
   "id": "5073f6ff",
   "metadata": {},
   "outputs": [
    {
     "name": "stdout",
     "output_type": "stream",
     "text": [
      "7\n",
      "8\n",
      "3\n",
      "5\n"
     ]
    }
   ],
   "source": [
    "#iterating listss\n",
    "\n",
    "x = [7,8,3,5]\n",
    "\n",
    "for item in x:\n",
    "    print(item)"
   ]
  },
  {
   "cell_type": "code",
   "execution_count": 27,
   "id": "ba850499",
   "metadata": {},
   "outputs": [
    {
     "name": "stdout",
     "output_type": "stream",
     "text": [
      "ccc\n",
      "fff\n",
      "ddd\n"
     ]
    }
   ],
   "source": [
    "a = [\"ddd\", \"fff\", \"ccc\"]\n",
    "for i in reversed(a):\n",
    "    print(i)"
   ]
  },
  {
   "cell_type": "code",
   "execution_count": 28,
   "id": "50a72459",
   "metadata": {},
   "outputs": [
    {
     "name": "stdout",
     "output_type": "stream",
     "text": [
      "45\n",
      "23\n",
      "2\n"
     ]
    }
   ],
   "source": [
    "a = [2, 23, 45]\n",
    "for i in reversed(a):\n",
    "    print(i)"
   ]
  },
  {
   "cell_type": "code",
   "execution_count": 40,
   "id": "87b18930",
   "metadata": {},
   "outputs": [
    {
     "name": "stdout",
     "output_type": "stream",
     "text": [
      "qqq\n"
     ]
    }
   ],
   "source": [
    "x = \"abc2ba\"\n",
    "\n",
    "# for i in x:\n",
    "#     if x[0] == x[-1]:\n",
    "#         print(\"okay\")\n",
    "#    else:\n",
    "#         print(\"No\")\n",
    "        \n",
    "\n",
    "for item in x:\n",
    "    k = item\n",
    "#     print(k)\n",
    "    \n",
    "for i in reversed(x):\n",
    "    h = i\n",
    "#     print(h)\n",
    "    \n",
    "if k == h:\n",
    "    print(\"qqq\")\n",
    "else:\n",
    "    print(\"Www\")\n",
    "    \n",
    "#check again"
   ]
  },
  {
   "cell_type": "code",
   "execution_count": 46,
   "id": "fb52cef5",
   "metadata": {},
   "outputs": [
    {
     "name": "stdout",
     "output_type": "stream",
     "text": [
      "Enter a word: abc2ba\n",
      "It's not a palindrome.\n"
     ]
    }
   ],
   "source": [
    "def is_palindrome(string):\n",
    "    string = string.lower()  # Convert string to lowercase for case-insensitive comparison\n",
    "    string = ''.join(char for char in string if char.isalnum())  # Remove non-alphanumeric characters\n",
    "    return string == string[::-1]  # Compare the string with its reverse\n",
    "\n",
    "word = input(\"Enter a word: \")\n",
    "if is_palindrome(word):\n",
    "    print(\"It's a palindrome!\")\n",
    "else:\n",
    "    print(\"It's not a palindrome.\")\n",
    "    \n",
    "    "
   ]
  },
  {
   "cell_type": "code",
   "execution_count": null,
   "id": "c5d57144",
   "metadata": {},
   "outputs": [],
   "source": []
  },
  {
   "cell_type": "code",
   "execution_count": 41,
   "id": "7fc7ddc7",
   "metadata": {},
   "outputs": [
    {
     "name": "stdout",
     "output_type": "stream",
     "text": [
      "0 7\n",
      "1 8\n",
      "2 9\n"
     ]
    }
   ],
   "source": [
    "#index & item\n",
    "y = [7,8,9]\n",
    "for index, item in enumerate(y):\n",
    "    print(index,item)"
   ]
  },
  {
   "cell_type": "code",
   "execution_count": 35,
   "id": "5977cdd3",
   "metadata": {},
   "outputs": [
    {
     "name": "stdout",
     "output_type": "stream",
     "text": [
      "[0, 1, 2, 3, 4, 5, 6, 7]\n",
      "[25, 36, 49, 64, 81]\n"
     ]
    }
   ],
   "source": [
    "#list comprehension\n",
    "\n",
    "a = [m for m in range(8)]\n",
    "print(a)\n",
    "b = [i**2 for i in range(10) if i >4]\n",
    "print(b)"
   ]
  },
  {
   "cell_type": "code",
   "execution_count": 42,
   "id": "a448bf61",
   "metadata": {},
   "outputs": [
    {
     "name": "stdout",
     "output_type": "stream",
     "text": [
      "pig\n",
      "cow\n",
      "house\n",
      "cow\n"
     ]
    }
   ],
   "source": [
    "#unpacking\n",
    "\n",
    "y = ['pig', 'cow', 'house', 'cow']\n",
    "a, b ,c ,d = y\n",
    "print(a,b,c,d, sep=\"\\n\")"
   ]
  },
  {
   "cell_type": "code",
   "execution_count": 44,
   "id": "7bd864e5",
   "metadata": {},
   "outputs": [
    {
     "name": "stdout",
     "output_type": "stream",
     "text": [
      "() <class 'tuple'>\n",
      "(1, 2, 3) <class 'tuple'>\n",
      "(1, 2, 3) <class 'tuple'>\n",
      "(2,) <class 'tuple'>\n",
      "(2, 3, 5) <class 'tuple'>\n"
     ]
    }
   ],
   "source": [
    "#tuple\n",
    "\n",
    "x = ()\n",
    "print(x,type(x))\n",
    "\n",
    "x = (1,2,3)\n",
    "print(x,type(x))\n",
    "\n",
    "x = 1,2,3\n",
    "print(x,type(x))\n",
    "\n",
    "x =2,\n",
    "print(x,type(x))\n",
    "\n",
    "list1 = [2,3,5]\n",
    "x=tuple(list1)\n",
    "print(x,type(x))"
   ]
  },
  {
   "cell_type": "code",
   "execution_count": 50,
   "id": "205f012a",
   "metadata": {},
   "outputs": [
    {
     "name": "stdout",
     "output_type": "stream",
     "text": [
      "{3, 5, 7}\n",
      "set()\n",
      "{2, 3, 4, 5}\n"
     ]
    }
   ],
   "source": [
    "#creating new set\n",
    "\n",
    "x = {3,5,7,5}\n",
    "print(x)\n",
    "\n",
    "y = set()\n",
    "print(y)\n",
    "\n",
    "list1 = [2,3,3,4,5]\n",
    "z = set(list1)\n",
    "print(z)"
   ]
  },
  {
   "cell_type": "code",
   "execution_count": null,
   "id": "1bcb4063",
   "metadata": {},
   "outputs": [],
   "source": []
  },
  {
   "cell_type": "code",
   "execution_count": null,
   "id": "188a6589",
   "metadata": {},
   "outputs": [],
   "source": []
  },
  {
   "cell_type": "code",
   "execution_count": null,
   "id": "d159d140",
   "metadata": {},
   "outputs": [],
   "source": []
  },
  {
   "cell_type": "code",
   "execution_count": null,
   "id": "257c2054",
   "metadata": {},
   "outputs": [],
   "source": []
  },
  {
   "cell_type": "code",
   "execution_count": null,
   "id": "fc45eed7",
   "metadata": {},
   "outputs": [],
   "source": []
  },
  {
   "cell_type": "code",
   "execution_count": null,
   "id": "17b1b0c0",
   "metadata": {},
   "outputs": [],
   "source": []
  },
  {
   "cell_type": "code",
   "execution_count": null,
   "id": "c08b0f2e",
   "metadata": {},
   "outputs": [],
   "source": []
  },
  {
   "cell_type": "code",
   "execution_count": null,
   "id": "8966c2d2",
   "metadata": {},
   "outputs": [],
   "source": []
  },
  {
   "cell_type": "code",
   "execution_count": null,
   "id": "6fbef0be",
   "metadata": {},
   "outputs": [],
   "source": []
  }
 ],
 "metadata": {
  "kernelspec": {
   "display_name": "Python 3 (ipykernel)",
   "language": "python",
   "name": "python3"
  },
  "language_info": {
   "codemirror_mode": {
    "name": "ipython",
    "version": 3
   },
   "file_extension": ".py",
   "mimetype": "text/x-python",
   "name": "python",
   "nbconvert_exporter": "python",
   "pygments_lexer": "ipython3",
   "version": "3.10.9"
  }
 },
 "nbformat": 4,
 "nbformat_minor": 5
}
